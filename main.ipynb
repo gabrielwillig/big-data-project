{
 "cells": [
  {
   "cell_type": "code",
   "execution_count": 344,
   "metadata": {},
   "outputs": [],
   "source": [
    "from pyspark.sql import SparkSession\n",
    "from pyspark.sql.types import StringType, ArrayType, StructType, IntegerType, StructField\n",
    "from pyspark.sql.functions import from_json, col, explode, desc, split\n"
   ]
  },
  {
   "cell_type": "code",
   "execution_count": 345,
   "metadata": {},
   "outputs": [],
   "source": [
    "spark = SparkSession \\\n",
    "    .builder \\\n",
    "    .appName(\"Python Spark SQL Dataset\") \\\n",
    "    .getOrCreate()"
   ]
  },
  {
   "cell_type": "code",
   "execution_count": 346,
   "metadata": {},
   "outputs": [
    {
     "name": "stdout",
     "output_type": "stream",
     "text": [
      "+------+-------+------+----------+\n",
      "|userId|movieId|rating| timestamp|\n",
      "+------+-------+------+----------+\n",
      "|     1|    296|   5.0|1147880044|\n",
      "|     1|    306|   3.5|1147868817|\n",
      "|     1|    307|   5.0|1147868828|\n",
      "|     1|    665|   5.0|1147878820|\n",
      "|     1|    899|   3.5|1147868510|\n",
      "|     1|   1088|   4.0|1147868495|\n",
      "|     1|   1175|   3.5|1147868826|\n",
      "|     1|   1217|   3.5|1147878326|\n",
      "|     1|   1237|   5.0|1147868839|\n",
      "|     1|   1250|   4.0|1147868414|\n",
      "|     1|   1260|   3.5|1147877857|\n",
      "|     1|   1653|   4.0|1147868097|\n",
      "|     1|   2011|   2.5|1147868079|\n",
      "|     1|   2012|   2.5|1147868068|\n",
      "|     1|   2068|   2.5|1147869044|\n",
      "|     1|   2161|   3.5|1147868609|\n",
      "|     1|   2351|   4.5|1147877957|\n",
      "|     1|   2573|   4.0|1147878923|\n",
      "|     1|   2632|   5.0|1147878248|\n",
      "|     1|   2692|   5.0|1147869100|\n",
      "+------+-------+------+----------+\n",
      "only showing top 20 rows\n",
      "\n"
     ]
    }
   ],
   "source": [
    "path = \"../ratings.csv\"\n",
    "df = spark.read.csv(path, header=True)\n",
    "df.show()"
   ]
  },
  {
   "cell_type": "code",
   "execution_count": 347,
   "metadata": {},
   "outputs": [
    {
     "name": "stdout",
     "output_type": "stream",
     "text": [
      "+-------+--------------------+--------------------+\n",
      "|movieId|               title|              genres|\n",
      "+-------+--------------------+--------------------+\n",
      "|      1|    Toy Story (1995)|Adventure|Animati...|\n",
      "|      2|      Jumanji (1995)|Adventure|Childre...|\n",
      "|      3|Grumpier Old Men ...|      Comedy|Romance|\n",
      "|      4|Waiting to Exhale...|Comedy|Drama|Romance|\n",
      "|      5|Father of the Bri...|              Comedy|\n",
      "|      6|         Heat (1995)|Action|Crime|Thri...|\n",
      "|      7|      Sabrina (1995)|      Comedy|Romance|\n",
      "|      8| Tom and Huck (1995)|  Adventure|Children|\n",
      "|      9| Sudden Death (1995)|              Action|\n",
      "|     10|    GoldenEye (1995)|Action|Adventure|...|\n",
      "|     11|American Presiden...|Comedy|Drama|Romance|\n",
      "|     12|Dracula: Dead and...|       Comedy|Horror|\n",
      "|     13|        Balto (1995)|Adventure|Animati...|\n",
      "|     14|        Nixon (1995)|               Drama|\n",
      "|     15|Cutthroat Island ...|Action|Adventure|...|\n",
      "|     16|       Casino (1995)|         Crime|Drama|\n",
      "|     17|Sense and Sensibi...|       Drama|Romance|\n",
      "|     18|   Four Rooms (1995)|              Comedy|\n",
      "|     19|Ace Ventura: When...|              Comedy|\n",
      "|     20|  Money Train (1995)|Action|Comedy|Cri...|\n",
      "+-------+--------------------+--------------------+\n",
      "only showing top 20 rows\n",
      "\n"
     ]
    }
   ],
   "source": [
    "path2 = \"../movies.csv\"\n",
    "df2 = spark.read.csv(path2, header=True)\n",
    "df2.show()"
   ]
  },
  {
   "cell_type": "code",
   "execution_count": 348,
   "metadata": {},
   "outputs": [
    {
     "name": "stdout",
     "output_type": "stream",
     "text": [
      "+------+-------+------+----------+-------+------------------------------------------------------------------+-------------------------------+\n",
      "|userId|movieId|rating|timestamp |movieId|title                                                             |genres                         |\n",
      "+------+-------+------+----------+-------+------------------------------------------------------------------+-------------------------------+\n",
      "|1     |296    |5.0   |1147880044|296    |Pulp Fiction (1994)                                               |Comedy|Crime|Drama|Thriller    |\n",
      "|1     |306    |3.5   |1147868817|306    |Three Colors: Red (Trois couleurs: Rouge) (1994)                  |Drama                          |\n",
      "|1     |307    |5.0   |1147868828|307    |Three Colors: Blue (Trois couleurs: Bleu) (1993)                  |Drama                          |\n",
      "|1     |665    |5.0   |1147878820|665    |Underground (1995)                                                |Comedy|Drama|War               |\n",
      "|1     |899    |3.5   |1147868510|899    |Singin' in the Rain (1952)                                        |Comedy|Musical|Romance         |\n",
      "|1     |1088   |4.0   |1147868495|1088   |Dirty Dancing (1987)                                              |Drama|Musical|Romance          |\n",
      "|1     |1175   |3.5   |1147868826|1175   |Delicatessen (1991)                                               |Comedy|Drama|Romance           |\n",
      "|1     |1217   |3.5   |1147878326|1217   |Ran (1985)                                                        |Drama|War                      |\n",
      "|1     |1237   |5.0   |1147868839|1237   |Seventh Seal, The (Sjunde inseglet, Det) (1957)                   |Drama                          |\n",
      "|1     |1250   |4.0   |1147868414|1250   |Bridge on the River Kwai, The (1957)                              |Adventure|Drama|War            |\n",
      "|1     |1260   |3.5   |1147877857|1260   |M (1931)                                                          |Crime|Film-Noir|Thriller       |\n",
      "|1     |1653   |4.0   |1147868097|1653   |Gattaca (1997)                                                    |Drama|Sci-Fi|Thriller          |\n",
      "|1     |2011   |2.5   |1147868079|2011   |Back to the Future Part II (1989)                                 |Adventure|Comedy|Sci-Fi        |\n",
      "|1     |2012   |2.5   |1147868068|2012   |Back to the Future Part III (1990)                                |Adventure|Comedy|Sci-Fi|Western|\n",
      "|1     |2068   |2.5   |1147869044|2068   |Fanny and Alexander (Fanny och Alexander) (1982)                  |Drama|Fantasy|Mystery          |\n",
      "|1     |2161   |3.5   |1147868609|2161   |NeverEnding Story, The (1984)                                     |Adventure|Children|Fantasy     |\n",
      "|1     |2351   |4.5   |1147877957|2351   |Nights of Cabiria (Notti di Cabiria, Le) (1957)                   |Drama                          |\n",
      "|1     |2573   |4.0   |1147878923|2573   |Tango (1998)                                                      |Drama|Musical                  |\n",
      "|1     |2632   |5.0   |1147878248|2632   |Saragossa Manuscript, The (Rekopis znaleziony w Saragossie) (1965)|Adventure|Drama|Mystery        |\n",
      "|1     |2692   |5.0   |1147869100|2692   |Run Lola Run (Lola rennt) (1998)                                  |Action|Crime                   |\n",
      "+------+-------+------+----------+-------+------------------------------------------------------------------+-------------------------------+\n",
      "only showing top 20 rows\n",
      "\n"
     ]
    }
   ],
   "source": [
    "df = df.join(df2, df.movieId == df2.movieId, 'inner')\n",
    "df.show(truncate=False)"
   ]
  },
  {
   "cell_type": "code",
   "execution_count": 349,
   "metadata": {},
   "outputs": [],
   "source": [
    "df = df.withColumn(\"genres\", split(df.genres, r\"\\|\"))"
   ]
  },
  {
   "cell_type": "code",
   "execution_count": 350,
   "metadata": {},
   "outputs": [
    {
     "name": "stdout",
     "output_type": "stream",
     "text": [
      "+------+-------+------+----------+-------+--------------------+--------+\n",
      "|userId|movieId|rating| timestamp|movieId|               title|  genres|\n",
      "+------+-------+------+----------+-------+--------------------+--------+\n",
      "|     1|    296|   5.0|1147880044|    296| Pulp Fiction (1994)|  Comedy|\n",
      "|     1|    296|   5.0|1147880044|    296| Pulp Fiction (1994)|   Crime|\n",
      "|     1|    296|   5.0|1147880044|    296| Pulp Fiction (1994)|   Drama|\n",
      "|     1|    296|   5.0|1147880044|    296| Pulp Fiction (1994)|Thriller|\n",
      "|     1|    306|   3.5|1147868817|    306|Three Colors: Red...|   Drama|\n",
      "|     1|    307|   5.0|1147868828|    307|Three Colors: Blu...|   Drama|\n",
      "|     1|    665|   5.0|1147878820|    665|  Underground (1995)|  Comedy|\n",
      "|     1|    665|   5.0|1147878820|    665|  Underground (1995)|   Drama|\n",
      "|     1|    665|   5.0|1147878820|    665|  Underground (1995)|     War|\n",
      "|     1|    899|   3.5|1147868510|    899|Singin' in the Ra...|  Comedy|\n",
      "|     1|    899|   3.5|1147868510|    899|Singin' in the Ra...| Musical|\n",
      "|     1|    899|   3.5|1147868510|    899|Singin' in the Ra...| Romance|\n",
      "|     1|   1088|   4.0|1147868495|   1088|Dirty Dancing (1987)|   Drama|\n",
      "|     1|   1088|   4.0|1147868495|   1088|Dirty Dancing (1987)| Musical|\n",
      "|     1|   1088|   4.0|1147868495|   1088|Dirty Dancing (1987)| Romance|\n",
      "|     1|   1175|   3.5|1147868826|   1175| Delicatessen (1991)|  Comedy|\n",
      "|     1|   1175|   3.5|1147868826|   1175| Delicatessen (1991)|   Drama|\n",
      "|     1|   1175|   3.5|1147868826|   1175| Delicatessen (1991)| Romance|\n",
      "|     1|   1217|   3.5|1147878326|   1217|          Ran (1985)|   Drama|\n",
      "|     1|   1217|   3.5|1147878326|   1217|          Ran (1985)|     War|\n",
      "+------+-------+------+----------+-------+--------------------+--------+\n",
      "only showing top 20 rows\n",
      "\n"
     ]
    }
   ],
   "source": [
    "df = df.withColumn(\"genres\", explode(df.genres).alias(\"genre\"))\n",
    "df.show()"
   ]
  }
 ],
 "metadata": {
  "kernelspec": {
   "display_name": ".venv",
   "language": "python",
   "name": "python3"
  },
  "language_info": {
   "codemirror_mode": {
    "name": "ipython",
    "version": 3
   },
   "file_extension": ".py",
   "mimetype": "text/x-python",
   "name": "python",
   "nbconvert_exporter": "python",
   "pygments_lexer": "ipython3",
   "version": "3.12.2"
  }
 },
 "nbformat": 4,
 "nbformat_minor": 2
}
