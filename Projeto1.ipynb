{
 "cells": [
  {
   "cell_type": "code",
   "execution_count": 9,
   "metadata": {},
   "outputs": [],
   "source": [
    "from pyspark.sql import SparkSession\n",
    "from pyspark.sql.functions import explode, split"
   ]
  },
  {
   "cell_type": "code",
   "execution_count": 10,
   "metadata": {},
   "outputs": [],
   "source": [
    "spark = SparkSession \\\n",
    "    .builder \\\n",
    "    .appName(\"Python Spark SQL Dataset\") \\\n",
    "    .getOrCreate()"
   ]
  },
  {
   "cell_type": "code",
   "execution_count": 21,
   "metadata": {},
   "outputs": [
    {
     "name": "stdout",
     "output_type": "stream",
     "text": [
      "+------+-------+------+----------+\n",
      "|userId|movieId|rating| timestamp|\n",
      "+------+-------+------+----------+\n",
      "|     1|    296|   5.0|1147880044|\n",
      "|     1|    306|   3.5|1147868817|\n",
      "|     1|    307|   5.0|1147868828|\n",
      "|     1|    665|   5.0|1147878820|\n",
      "|     1|    899|   3.5|1147868510|\n",
      "+------+-------+------+----------+\n",
      "only showing top 5 rows\n",
      "\n",
      "root\n",
      " |-- userId: string (nullable = true)\n",
      " |-- movieId: string (nullable = true)\n",
      " |-- rating: string (nullable = true)\n",
      " |-- timestamp: string (nullable = true)\n",
      "\n"
     ]
    }
   ],
   "source": [
    "path = \"ratings.csv\"\n",
    "df = spark.read.csv(path, header=True)\n",
    "df.show(5)"
   ]
  },
  {
   "cell_type": "code",
   "execution_count": 12,
   "metadata": {},
   "outputs": [
    {
     "name": "stdout",
     "output_type": "stream",
     "text": [
      "+--------------+--------------------+--------------------+\n",
      "|movieId_movies|               title|              genres|\n",
      "+--------------+--------------------+--------------------+\n",
      "|             1|    Toy Story (1995)|Adventure|Animati...|\n",
      "|             2|      Jumanji (1995)|Adventure|Childre...|\n",
      "|             3|Grumpier Old Men ...|      Comedy|Romance|\n",
      "|             4|Waiting to Exhale...|Comedy|Drama|Romance|\n",
      "|             5|Father of the Bri...|              Comedy|\n",
      "+--------------+--------------------+--------------------+\n",
      "only showing top 5 rows\n",
      "\n"
     ]
    }
   ],
   "source": [
    "path2 = \"movies.csv\"\n",
    "df2 = spark.read.csv(path2, header=True)\n",
    "df2 = df2.withColumnRenamed(\"movieId\", \"movieId_movies\")\n",
    "df2.show(5)"
   ]
  },
  {
   "cell_type": "code",
   "execution_count": 13,
   "metadata": {},
   "outputs": [
    {
     "name": "stderr",
     "output_type": "stream",
     "text": [
      "                                                                                \r"
     ]
    },
    {
     "name": "stdout",
     "output_type": "stream",
     "text": [
      "+------+-------+------+----------+--------------+------------------------------------------------------------------+-------------------------------+\n",
      "|userId|movieId|rating|timestamp |movieId_movies|title                                                             |genres                         |\n",
      "+------+-------+------+----------+--------------+------------------------------------------------------------------+-------------------------------+\n",
      "|1     |296    |5.0   |1147880044|296           |Pulp Fiction (1994)                                               |Comedy|Crime|Drama|Thriller    |\n",
      "|1     |306    |3.5   |1147868817|306           |Three Colors: Red (Trois couleurs: Rouge) (1994)                  |Drama                          |\n",
      "|1     |307    |5.0   |1147868828|307           |Three Colors: Blue (Trois couleurs: Bleu) (1993)                  |Drama                          |\n",
      "|1     |665    |5.0   |1147878820|665           |Underground (1995)                                                |Comedy|Drama|War               |\n",
      "|1     |899    |3.5   |1147868510|899           |Singin' in the Rain (1952)                                        |Comedy|Musical|Romance         |\n",
      "|1     |1088   |4.0   |1147868495|1088          |Dirty Dancing (1987)                                              |Drama|Musical|Romance          |\n",
      "|1     |1175   |3.5   |1147868826|1175          |Delicatessen (1991)                                               |Comedy|Drama|Romance           |\n",
      "|1     |1217   |3.5   |1147878326|1217          |Ran (1985)                                                        |Drama|War                      |\n",
      "|1     |1237   |5.0   |1147868839|1237          |Seventh Seal, The (Sjunde inseglet, Det) (1957)                   |Drama                          |\n",
      "|1     |1250   |4.0   |1147868414|1250          |Bridge on the River Kwai, The (1957)                              |Adventure|Drama|War            |\n",
      "|1     |1260   |3.5   |1147877857|1260          |M (1931)                                                          |Crime|Film-Noir|Thriller       |\n",
      "|1     |1653   |4.0   |1147868097|1653          |Gattaca (1997)                                                    |Drama|Sci-Fi|Thriller          |\n",
      "|1     |2011   |2.5   |1147868079|2011          |Back to the Future Part II (1989)                                 |Adventure|Comedy|Sci-Fi        |\n",
      "|1     |2012   |2.5   |1147868068|2012          |Back to the Future Part III (1990)                                |Adventure|Comedy|Sci-Fi|Western|\n",
      "|1     |2068   |2.5   |1147869044|2068          |Fanny and Alexander (Fanny och Alexander) (1982)                  |Drama|Fantasy|Mystery          |\n",
      "|1     |2161   |3.5   |1147868609|2161          |NeverEnding Story, The (1984)                                     |Adventure|Children|Fantasy     |\n",
      "|1     |2351   |4.5   |1147877957|2351          |Nights of Cabiria (Notti di Cabiria, Le) (1957)                   |Drama                          |\n",
      "|1     |2573   |4.0   |1147878923|2573          |Tango (1998)                                                      |Drama|Musical                  |\n",
      "|1     |2632   |5.0   |1147878248|2632          |Saragossa Manuscript, The (Rekopis znaleziony w Saragossie) (1965)|Adventure|Drama|Mystery        |\n",
      "|1     |2692   |5.0   |1147869100|2692          |Run Lola Run (Lola rennt) (1998)                                  |Action|Crime                   |\n",
      "+------+-------+------+----------+--------------+------------------------------------------------------------------+-------------------------------+\n",
      "only showing top 20 rows\n",
      "\n"
     ]
    }
   ],
   "source": [
    "df = df.join(df2, df.movieId == df2.movieId_movies, 'left')\n",
    "df.show(truncate=False)"
   ]
  },
  {
   "cell_type": "code",
   "execution_count": 14,
   "metadata": {},
   "outputs": [],
   "source": [
    "df = df.drop('movieId_movies')"
   ]
  },
  {
   "cell_type": "code",
   "execution_count": 15,
   "metadata": {},
   "outputs": [],
   "source": [
    "df = df.withColumn(\"genres\", split(df.genres, r\"\\|\"))"
   ]
  },
  {
   "cell_type": "code",
   "execution_count": 16,
   "metadata": {},
   "outputs": [
    {
     "name": "stdout",
     "output_type": "stream",
     "text": [
      "+------+-------+------+----------+--------------------+--------+\n",
      "|userId|movieId|rating| timestamp|               title|  genres|\n",
      "+------+-------+------+----------+--------------------+--------+\n",
      "|     1|    296|   5.0|1147880044| Pulp Fiction (1994)|  Comedy|\n",
      "|     1|    296|   5.0|1147880044| Pulp Fiction (1994)|   Crime|\n",
      "|     1|    296|   5.0|1147880044| Pulp Fiction (1994)|   Drama|\n",
      "|     1|    296|   5.0|1147880044| Pulp Fiction (1994)|Thriller|\n",
      "|     1|    306|   3.5|1147868817|Three Colors: Red...|   Drama|\n",
      "|     1|    307|   5.0|1147868828|Three Colors: Blu...|   Drama|\n",
      "|     1|    665|   5.0|1147878820|  Underground (1995)|  Comedy|\n",
      "|     1|    665|   5.0|1147878820|  Underground (1995)|   Drama|\n",
      "|     1|    665|   5.0|1147878820|  Underground (1995)|     War|\n",
      "|     1|    899|   3.5|1147868510|Singin' in the Ra...|  Comedy|\n",
      "|     1|    899|   3.5|1147868510|Singin' in the Ra...| Musical|\n",
      "|     1|    899|   3.5|1147868510|Singin' in the Ra...| Romance|\n",
      "|     1|   1088|   4.0|1147868495|Dirty Dancing (1987)|   Drama|\n",
      "|     1|   1088|   4.0|1147868495|Dirty Dancing (1987)| Musical|\n",
      "|     1|   1088|   4.0|1147868495|Dirty Dancing (1987)| Romance|\n",
      "|     1|   1175|   3.5|1147868826| Delicatessen (1991)|  Comedy|\n",
      "|     1|   1175|   3.5|1147868826| Delicatessen (1991)|   Drama|\n",
      "|     1|   1175|   3.5|1147868826| Delicatessen (1991)| Romance|\n",
      "|     1|   1217|   3.5|1147878326|          Ran (1985)|   Drama|\n",
      "|     1|   1217|   3.5|1147878326|          Ran (1985)|     War|\n",
      "+------+-------+------+----------+--------------------+--------+\n",
      "only showing top 20 rows\n",
      "\n"
     ]
    }
   ],
   "source": [
    "df = df.withColumn(\"genres\", explode(df.genres).alias(\"genre\"))\n",
    "df.show()"
   ]
  },
  {
   "cell_type": "code",
   "execution_count": 17,
   "metadata": {},
   "outputs": [
    {
     "name": "stderr",
     "output_type": "stream",
     "text": [
      "[Stage 11:>                                                         (0 + 3) / 3]\r"
     ]
    },
    {
     "name": "stdout",
     "output_type": "stream",
     "text": [
      "+------+-------+------+---------+-----+------+\n",
      "|userId|movieId|rating|timestamp|title|genres|\n",
      "+------+-------+------+---------+-----+------+\n",
      "+------+-------+------+---------+-----+------+\n",
      "\n"
     ]
    },
    {
     "name": "stderr",
     "output_type": "stream",
     "text": [
      "                                                                                \r"
     ]
    }
   ],
   "source": [
    "df.filter(df.rating.isNull()).show(10)"
   ]
  },
  {
   "cell_type": "code",
   "execution_count": 18,
   "metadata": {},
   "outputs": [
    {
     "name": "stderr",
     "output_type": "stream",
     "text": [
      "                                                                                \r"
     ]
    },
    {
     "name": "stdout",
     "output_type": "stream",
     "text": [
      "+------+-------+------+--------------------+--------+\n",
      "|userId|movieId|rating|               title|  genres|\n",
      "+------+-------+------+--------------------+--------+\n",
      "|     1|    296|   5.0| Pulp Fiction (1994)|  Comedy|\n",
      "|     1|    296|   5.0| Pulp Fiction (1994)|   Crime|\n",
      "|     1|    296|   5.0| Pulp Fiction (1994)|   Drama|\n",
      "|     1|    296|   5.0| Pulp Fiction (1994)|Thriller|\n",
      "|     1|    306|   3.5|Three Colors: Red...|   Drama|\n",
      "+------+-------+------+--------------------+--------+\n",
      "only showing top 5 rows\n",
      "\n"
     ]
    }
   ],
   "source": [
    "df = df.select(\"userId\", \"movieId\", \"rating\", \"title\", \"genres\")\n",
    "df.show(5)"
   ]
  },
  {
   "cell_type": "code",
   "execution_count": 19,
   "metadata": {},
   "outputs": [
    {
     "name": "stderr",
     "output_type": "stream",
     "text": [
      "[Stage 15:==================================================>       (7 + 1) / 8]\r"
     ]
    },
    {
     "name": "stdout",
     "output_type": "stream",
     "text": [
      "Contagem de linhas antes de salvar: 67809886\n",
      "root\n",
      " |-- userId: string (nullable = true)\n",
      " |-- movieId: string (nullable = true)\n",
      " |-- rating: string (nullable = true)\n",
      " |-- title: string (nullable = true)\n",
      " |-- genres: string (nullable = false)\n",
      "\n"
     ]
    },
    {
     "name": "stderr",
     "output_type": "stream",
     "text": [
      "                                                                                \r"
     ]
    }
   ],
   "source": [
    "# Verificando a contagem de linhas\n",
    "print(f\"Contagem de linhas antes de salvar: {df.count()}\")\n",
    "\n",
    "# Verificando o esquema do DataFrame\n",
    "df.printSchema()"
   ]
  },
  {
   "cell_type": "code",
   "execution_count": 20,
   "metadata": {},
   "outputs": [
    {
     "name": "stderr",
     "output_type": "stream",
     "text": [
      "                                                                                \r"
     ]
    }
   ],
   "source": [
    "# Salvando o resultado em um CSV\n",
    "df.write.csv(\"movies_ratings\", header=True, mode='overwrite')"
   ]
  }
 ],
 "metadata": {
  "kernelspec": {
   "display_name": ".venv",
   "language": "python",
   "name": "python3"
  },
  "language_info": {
   "codemirror_mode": {
    "name": "ipython",
    "version": 3
   },
   "file_extension": ".py",
   "mimetype": "text/x-python",
   "name": "python",
   "nbconvert_exporter": "python",
   "pygments_lexer": "ipython3",
   "version": "3.10.12"
  }
 },
 "nbformat": 4,
 "nbformat_minor": 2
}
